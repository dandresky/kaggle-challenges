{
 "cells": [
  {
   "cell_type": "markdown",
   "metadata": {},
   "source": [
    "## Kaggle Challenge Notebook - Titanic\n",
    "\n",
    "This notebook is a scratch pad to test code and visualize data for the Titanic data science challenge. This file is not required to be submitted. It is only developed as an aide and to document decisions.\n",
    "\n",
    "#### Challenge Definition\n",
    "\n",
    "The Titanic challenge is recommended as a simple introduction to the Kaggle platform. The goal is to analyze/engineer the data and develop a model to predict what sorts of people were likely to survive. \n",
    "\n",
    "The submission consists of a single csv file with the PassengerID and prediction for Survived."
   ]
  },
  {
   "cell_type": "code",
   "execution_count": null,
   "metadata": {
    "collapsed": true
   },
   "outputs": [],
   "source": [
    "from src.titanic import get_data\n",
    "from src.titanic import clean_data\n",
    "import pandas as pd\n",
    "import numpy as np\n",
    "import matplotlib.pyplot as plt\n",
    "%matplotlib inline"
   ]
  },
  {
   "cell_type": "code",
   "execution_count": null,
   "metadata": {},
   "outputs": [],
   "source": [
    "train_filename = 'data/train.csv'\n",
    "test_filename = 'data/test.csv'\n",
    "train_df, test_df = get_data(train_filename, test_filename)\n",
    "train_df.head()"
   ]
  },
  {
   "cell_type": "code",
   "execution_count": null,
   "metadata": {},
   "outputs": [],
   "source": [
    "test_df.head()"
   ]
  },
  {
   "cell_type": "code",
   "execution_count": null,
   "metadata": {},
   "outputs": [],
   "source": [
    "train_df.info()"
   ]
  },
  {
   "cell_type": "code",
   "execution_count": null,
   "metadata": {},
   "outputs": [],
   "source": [
    "train_df.describe()"
   ]
  },
  {
   "cell_type": "code",
   "execution_count": null,
   "metadata": {},
   "outputs": [],
   "source": [
    "#train_df['Cabin'].unique(return_counts=True)\n",
    "#np.unique(train_df['Cabin'], return_counts=True)\n",
    "train_df.describe(include=['O'])"
   ]
  },
  {
   "cell_type": "markdown",
   "metadata": {},
   "source": [
    "## Some observations of the data\n",
    "\n",
    "- PassengerID will have no bearing on Survived and can be discarded without further analysis.\n",
    "- Pclass - has 3 values (non missing) for 1st, 2nd, and 3rd class. It appears to be a good predictor of survival.\n",
    "- Name will likely have no bearing on survival, but the titles assigned to each name could be an indicator of status and predict survival. 93% of the titles are simply indicators of gender, with no indicator of status. Create a new field from these name where 1 is assigned when there is some indicator of social or professional status and 0 when not.\n",
    "- Sex - is a very stong predictor of survival. This data needs to be converted to binary values.\n",
    "- Age - Needs to be banded into 5 groups and is missing 177 values.\n",
    "- Ticket has 681 unique value (non missing) and can be discarded without further analysis.\n",
    "- Cabin - 77% of the values are missing. There could conceivably be useful information in the cabin name indicating a part of the ship someone was located in, but there are too many missing values to estimate.\n",
    "- "
   ]
  },
  {
   "cell_type": "code",
   "execution_count": null,
   "metadata": {},
   "outputs": [],
   "source": [
    "#plt.scatter(train_df['Pclass'], train_df['Survived'])\n",
    "train_df[['Pclass', 'Survived']].groupby(['Pclass'], as_index=False).mean().sort_values(by='Survived', ascending=False)"
   ]
  },
  {
   "cell_type": "code",
   "execution_count": null,
   "metadata": {},
   "outputs": [],
   "source": [
    "temp_df = train_df\n",
    "temp_df['Title'] = train_df.Name.str.extract(' ([A-Za-z]+)\\.', expand=False)\n",
    "pd.crosstab(temp_df['Title'], temp_df['Sex'])"
   ]
  },
  {
   "cell_type": "code",
   "execution_count": null,
   "metadata": {},
   "outputs": [],
   "source": [
    "train_df[['Sex', 'Survived']].groupby(['Sex'], as_index=False).mean().sort_values(by='Survived', ascending=False)"
   ]
  },
  {
   "cell_type": "code",
   "execution_count": null,
   "metadata": {},
   "outputs": [],
   "source": [
    "train_df['Age Band'] = pd.cut(train_df['Age'], 5)\n",
    "train_df[['Age Band', 'Survived']].groupby(['Age Band'], as_index=False).mean().sort_values(by='Age Band', ascending=False)"
   ]
  },
  {
   "cell_type": "code",
   "execution_count": null,
   "metadata": {},
   "outputs": [],
   "source": []
  },
  {
   "cell_type": "code",
   "execution_count": null,
   "metadata": {
    "scrolled": false
   },
   "outputs": [],
   "source": []
  },
  {
   "cell_type": "code",
   "execution_count": null,
   "metadata": {
    "collapsed": true
   },
   "outputs": [],
   "source": []
  }
 ],
 "metadata": {
  "kernelspec": {
   "display_name": "Python 3",
   "language": "python",
   "name": "python3"
  },
  "language_info": {
   "codemirror_mode": {
    "name": "ipython",
    "version": 3
   },
   "file_extension": ".py",
   "mimetype": "text/x-python",
   "name": "python",
   "nbconvert_exporter": "python",
   "pygments_lexer": "ipython3",
   "version": "3.6.2"
  }
 },
 "nbformat": 4,
 "nbformat_minor": 2
}
